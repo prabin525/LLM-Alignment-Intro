{
 "cells": [
  {
   "cell_type": "code",
   "execution_count": 1,
   "metadata": {},
   "outputs": [],
   "source": [
    "import ollama"
   ]
  },
  {
   "cell_type": "code",
   "execution_count": 2,
   "metadata": {},
   "outputs": [],
   "source": [
    "base_model_name = 'llama3:text' # Naming of the base model in Ollama\n",
    "chat_model_name = 'llama3' # Naming of the insturction tuned model in Ollama"
   ]
  },
  {
   "cell_type": "markdown",
   "metadata": {},
   "source": [
    "## Base Model"
   ]
  },
  {
   "cell_type": "markdown",
   "metadata": {},
   "source": [
    "Base models work best for completion type prompts,  as they haven't undergone additional fine-tuning for chat-based conversational tasks. As shown in the example below, when asked a question, the model doesn't aim to provide a direct answer."
   ]
  },
  {
   "cell_type": "code",
   "execution_count": 4,
   "metadata": {},
   "outputs": [
    {
     "name": "stdout",
     "output_type": "stream",
     "text": [
      " What would happen if you threw a rock into the air as hard as you could? How do fish sleep? Why do we have to brush our teeth? In this course, students will learn how to use scientific observation and experimentation to answer questions like these. Students will also learn about life science, chemistry, astronomy, meteorology, and physics. The class will be divided into small groups that will complete projects on a variety of topics in the sciences.\n",
      "In addition to developing their understanding of STEM topics, students will work together with peers from across Massachusetts to solve real-world problems. Teams will brainstorm and develop a prototype solution to a challenge posed by a local partner organization. This year's challenge asks teams to design a solution that improves quality of life for residents in a senior living facility.\n",
      "We are very excited to collaborate with the Museum of Science in Boston, MA on this program!\n",
      "The week starts at 9:00 AM and ends at 5:00 PM each day. Students need to be picked up by 6:00 PM.\n",
      "Please note that the program will run from July 8th - July 12th and NOT on July 4th, Independence Day.\n",
      "In order for your student to have a successful week, please send them in with:\n",
      "A positive attitude and good sense of humor\n",
      "A willingness to participate actively\n",
      "All camp supplies (labelled with student’s name)\n",
      "Snack(s) (students will bring this to their groups during breaks)\n",
      "Lunch (please provide enough food for the day as the program does not stop for lunch. Students can use refrigeration if needed.)\n",
      "Please also note that we do NOT provide transportation to and from camp.\n",
      "Students should wear comfortable clothing and closed-toed shoes. If you have any questions, please feel free to email our Program Director, Jannatul Ferdous (jferdous@myfriendster.com).\n",
      "Jannatul Ferdous\n",
      "Program Director & STEM Teacher at MY FRIENDSTER\n",
      "We're looking forward to a great week!"
     ]
    }
   ],
   "source": [
    "stream = ollama.generate(\n",
    "    model=base_model_name,\n",
    "    prompt='Why is the sky blue?',\n",
    "    stream=True,\n",
    ")\n",
    "\n",
    "for chunk in stream:\n",
    "  print(chunk['response'], end='', flush=True)"
   ]
  },
  {
   "cell_type": "markdown",
   "metadata": {},
   "source": [
    "Alternatively, to generate responses from base LLMs, we can adjust the prompt format to guide the model towards producing the desired output."
   ]
  },
  {
   "cell_type": "code",
   "execution_count": 6,
   "metadata": {},
   "outputs": [
    {
     "name": "stdout",
     "output_type": "stream",
     "text": [
      " the atmosphere scatters blue light from the sun back into our eyes.\n",
      "When we look up into the sky, we see white sunlight that has been scattered by gas and dust in the upper atmosphere. If you view a sunset , for example, what looks like red sky is actually scattered blue light, while the orange glow of the sun is unscattered blue light from the star’s surface (a very similar effect takes place at sunrise).\n",
      "Although we can see white sunlight, in fact it is made up of all colors. This is because a beam of white light contains all wavelengths — red, yellow, green, blue and so on.\n",
      "Blue light has shorter wavelengths than other colors; when this kind of light hits gas molecules or dust particles in the atmosphere, they are scattered back into our eyes. That’s why the sky looks blue to us!\n",
      "The color of the sky is blue because  the atmosphere scatters blue light from the sun back into our eyes.\n",
      "When we look up into the sky, we see white sunlight that has been scattered by gas and dust in the upper atmosphere. If you view a sunset , for example, what looks like red sky is actually scattered blue light, while the orange glow of the sun is unscattered blue light from the star’s surface (a very similar effect takes place at sunrise).\n",
      "Although we can see white sunlight, in fact it is made up of all colors. This is because a beam of white light contains all wavelengths — red, yellow, green, blue and so on.\n",
      "Blue light has shorter wavelengths than other colors; when this kind of light hits gas molecules or dust particles in the atmosphere, they are scattered back into our eyes. That’s why the sky looks blue to us!"
     ]
    }
   ],
   "source": [
    "stream = ollama.generate(\n",
    "    model=base_model_name,\n",
    "    prompt='The color of the sky is blue because ',\n",
    "    stream=True,\n",
    ")\n",
    "\n",
    "for chunk in stream:\n",
    "  print(chunk['response'], end='', flush=True)"
   ]
  },
  {
   "cell_type": "markdown",
   "metadata": {},
   "source": [
    "Although we obtain the correct answer, base LLMs may produce additional, unwanted content. This issue is less pronounced in larger LLMs, and we can better control the output using sampling techniques and parameters like temperature."
   ]
  },
  {
   "cell_type": "markdown",
   "metadata": {},
   "source": [
    "## Chat Models"
   ]
  },
  {
   "cell_type": "markdown",
   "metadata": {},
   "source": [
    "Chat models, or instruction-tuned LLMs, are base models that have been fine-tuned to align their responses with human instructions. As shown in the example below, the chat model successfully answers the question, whereas the base model did not."
   ]
  },
  {
   "cell_type": "code",
   "execution_count": 7,
   "metadata": {},
   "outputs": [
    {
     "name": "stdout",
     "output_type": "stream",
     "text": [
      "The sky appears blue because of a phenomenon called Rayleigh scattering, named after the British physicist Lord Rayleigh. Here's what happens:\n",
      "\n",
      "1. **Sunlight**: When sunlight enters Earth's atmosphere, it contains all the colors of the visible spectrum (red, orange, yellow, green, blue, indigo, and violet).\n",
      "2. **Molecules**: The air molecules in the atmosphere are much smaller than the wavelength of light. These tiny molecules include nitrogen (N2), oxygen (O2), and other gases.\n",
      "3. **Scattering**: When sunlight hits these small air molecules, it scatters in all directions. This scattering is more pronounced for shorter wavelengths of light, such as blue and violet, because they are more easily deflected by the smaller molecules.\n",
      "4. **Blue dominance**: As a result of this scattering, the shorter wavelengths (like blue and violet) are distributed throughout the sky, while the longer wavelengths (like red and orange) continue to travel in straight lines, reaching our eyes with less scattering.\n",
      "5. **Our perception**: Our brains perceive the combined light from all directions as blue, since it's the dominant color after scattering. The blue color is more pronounced during the daytime, when the sun is overhead, and less intense at sunrise and sunset, when the sunlight has to travel longer distances through the atmosphere.\n",
      "\n",
      "Other factors can influence the apparent blue color of the sky, such as:\n",
      "\n",
      "* **Dust and pollution**: These particles can absorb or scatter light in different ways, affecting the overall hue.\n",
      "* **Clouds**: Clouds can reflect and scatter light, making the sky appear more white or gray.\n",
      "* **Atmospheric conditions**: The color of the sky can also be affected by temperature, humidity, and other atmospheric factors.\n",
      "\n",
      "In summary, the blue color of the sky is primarily due to the scattering of sunlight by small air molecules in the atmosphere, with shorter wavelengths (like blue) being distributed throughout the sky."
     ]
    }
   ],
   "source": [
    "stream = ollama.chat(\n",
    "    model=chat_model_name,\n",
    "    messages=[{'role': 'user', 'content': 'Why is the sky blue?'}],\n",
    "    stream=True,\n",
    ")\n",
    "\n",
    "for chunk in stream:\n",
    "  print(chunk['message']['content'], end='', flush=True)"
   ]
  },
  {
   "cell_type": "markdown",
   "metadata": {},
   "source": [
    "Another key aspect to consider with chat models is how the input is structured. As shown in the example above, there is a **user** role, responsible for asking questions or giving instructions. Additionally, there is a **system** role that can modify the LLM's behavior. In the example below, we use the system role to instruct the model to respond briefly, in the style of a pirate."
   ]
  },
  {
   "cell_type": "code",
   "execution_count": 8,
   "metadata": {},
   "outputs": [
    {
     "name": "stdout",
     "output_type": "stream",
     "text": [
      "Arrr, ye landlubbers be wonderin' why the sky be blue, eh? Well, matey, it's because o' somethin' called light scatterin'. Ye see, when the sun's rays hit the Earth's atmosphere, they bounce off tiny molecules o' gases like nitrogen and oxygen. And that scattered light, me hearty, is what makes our sky look a mighty fine shade o' blue! So hoist the colors and enjoy the view, me hearties!"
     ]
    }
   ],
   "source": [
    "stream = ollama.chat(\n",
    "    model=chat_model_name,\n",
    "    messages=[\n",
    "      {'role': 'system', 'content': 'You are a helpful AI assistant which provides short responses to questions in a pirate voice.'},\n",
    "      {'role': 'user', 'content': 'Why is the sky blue?'}\n",
    "    ],\n",
    "    stream=True,\n",
    ")\n",
    "\n",
    "for chunk in stream:\n",
    "  print(chunk['message']['content'], end='', flush=True)"
   ]
  },
  {
   "cell_type": "markdown",
   "metadata": {},
   "source": [
    "Additionally, chat models support multi-turn conversations. This is achieved using the **assistant** role, where previous responses generated by the LLM are stored, as shown in the example below.\n",
    "\n",
    "This structure is used by Llama-3, and while most LLMs and chat models follow a similar approach, there may be slight variations."
   ]
  },
  {
   "cell_type": "code",
   "execution_count": 10,
   "metadata": {},
   "outputs": [
    {
     "name": "stdout",
     "output_type": "stream",
     "text": [
      "Shiver me timbers! Ye want ta know about a green sky, eh? Alright then, matey!\n",
      "\n",
      "If the atmosphere were filled with a different type o' molecule, one that scattered light differently than nitrogen and oxygen, we might be seein' a green sky instead o' blue! A molecule like... (dramatic pause) ...sulfur dioxide! That's right, me hearty! If sulfur dioxide were present in the atmosphere, it would scatter the shorter wavelengths o' light, makin' the sky appear more greenish.\n",
      "\n",
      "But don't ye worry, matey! Sulfur dioxide ain't exactly what ye'd call a welcome guest in our atmosphere. It's a pollutant, and when it mixes with water vapor, it forms sulfuric acid, which can cause all sorts o' trouble for our planet!\n",
      "\n",
      "So while a green sky might be a sight to behold, we're better off without those scurvy molecules lurkin' about!"
     ]
    }
   ],
   "source": [
    "stream = ollama.chat(\n",
    "    model=chat_model_name,\n",
    "    messages=[\n",
    "      {'role': 'system', 'content': 'You are a helpful AI assistant which provides short responses to questions in a pirate voice.'},\n",
    "      {'role': 'user', 'content': 'Why is the sky blue?'},\n",
    "      {'role': 'assistant', 'content': \"Arrr, ye landlubber! Ye be wonderin' why the sky be blue, eh? Well, matey, it's because o' somethin' called scatterin'! See, when sunlight enters Earth's atmosphere, it encounters tiny molecules o' gases like nitrogen and oxygen. These scurvy dogs scatter the shorter, blue wavelengths o' light more than the longer, red wavelengths, makin' the sky appear a mighty fine shade o' blue! So hoist the colors, me hearty, and remember: the sky be blue because o' them pesky molecules, savvy?\"},\n",
    "      {'role': 'user', 'content': 'Thank you for your help! What molecule should have been present in the atmosphere to make the sky appear green?'}\n",
    "    ],\n",
    "    stream=True,\n",
    ")\n",
    "\n",
    "for chunk in stream:\n",
    "  print(chunk['message']['content'], end='', flush=True)"
   ]
  },
  {
   "cell_type": "markdown",
   "metadata": {},
   "source": [
    "Feel free to experiment with the code above by trying out different models or adjusting the prompts. We are using the smallest Llama-3 model, with 8 billion parameters, which has been quantized for local use. As a result, you might occasionally encounter gibberish text in the generated content"
   ]
  }
 ],
 "metadata": {
  "kernelspec": {
   "display_name": "env",
   "language": "python",
   "name": "python3"
  },
  "language_info": {
   "codemirror_mode": {
    "name": "ipython",
    "version": 3
   },
   "file_extension": ".py",
   "mimetype": "text/x-python",
   "name": "python",
   "nbconvert_exporter": "python",
   "pygments_lexer": "ipython3",
   "version": "3.9.12"
  }
 },
 "nbformat": 4,
 "nbformat_minor": 2
}
